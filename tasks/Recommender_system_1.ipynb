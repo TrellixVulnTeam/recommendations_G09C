{
  "nbformat": 4,
  "nbformat_minor": 0,
  "metadata": {
    "kernelspec": {
      "name": "Python 3.8.6 64-bit",
      "display_name": "Python 3.8.6 64-bit",
      "metadata": {
        "interpreter": {
          "hash": "aee8b7b246df8f9039afb4144a1f6fd8d2ca17a180786b69acc140d282b71a49"
        }
      }
    },
    "language_info": {
      "codemirror_mode": {
        "name": "ipython",
        "version": 3
      },
      "file_extension": ".py",
      "mimetype": "text/x-python",
      "name": "python",
      "nbconvert_exporter": "python",
      "pygments_lexer": "ipython3",
      "version": "3.8.6-final"
    },
    "name": "lesson11_recsys.ipynb",
    "colab": {
      "name": "Recommender_system_1.ipynb",
      "provenance": [],
      "collapsed_sections": [
        "cf4lbaFSxyo7",
        "llNUr_9xxypo",
        "C4Ok7gk1xypx",
        "QJmVZW0TxyqA",
        "QZ2AV3PIxyqT",
        "RXDUM0i_xyqk"
      ],
      "toc_visible": true
    }
  },
  "cells": [
    {
      "cell_type": "markdown",
      "metadata": {
        "collapsed": true,
        "id": "Y4hNYuBMxyoa"
      },
      "source": [
        "# Рекомендательные системы"
      ]
    },
    {
      "cell_type": "markdown",
      "metadata": {
        "id": "ljOO71Er0BBe"
      },
      "source": [
        "## Введение\n"
      ]
    },
    {
      "cell_type": "markdown",
      "metadata": {
        "id": "AMDYY9SP1qc2"
      },
      "source": [
        "* какие проблемы решает рекомендательная система и как она применяется?\n",
        "* что такое персональные и неперсональные рекомендации?\n",
        "\n",
        "Наивный ответ: рекомендательные системы помогают пользователям ориентироваться в \"море информации\". Честный ответ: рекомендательные системы - это \"мягкий\" способ продать.\n",
        "\n",
        "Если проводить аналогии с рекламой: неперсональная рекомендация - это реклама по ТВ, а персонализированная - контекстная реклама."
      ]
    },
    {
      "cell_type": "markdown",
      "metadata": {
        "id": "2Km2p9ZE1t5c"
      },
      "source": [
        "Рекомендация: https://github.com/microsoft/recommenders"
      ]
    },
    {
      "cell_type": "markdown",
      "metadata": {
        "id": "ItlDweFe0YML"
      },
      "source": [
        "## Наивный пример формирования рекомендации "
      ]
    },
    {
      "cell_type": "markdown",
      "metadata": {
        "id": "qYGpzP9Wxyoc"
      },
      "source": [
        "Идея рекомендательных систем на основе ближайшего соседа – использовать предпочтения некоторой группы людей, похожих на данного пользователя, чтобы рекомендовать ему что-либо.\n",
        "\n",
        "У такой модели много применений:\n",
        "    \n",
        "   * рекомендация товаров интернет-магазинов\n",
        "   * рекомендация музыки или фильмов\n",
        "   * рекомендация людей/контента в социальных сетях"
      ]
    },
    {
      "cell_type": "markdown",
      "metadata": {
        "collapsed": true,
        "id": "kAuT-D94xyod"
      },
      "source": [
        "![](amazon.jpg)\n",
        "\n",
        "<a href=\"https://drive.google.com/uc?id=1jAZLpihYxu_FPvN9PIJ1G4S_KvO_6Ku6\n",
        "\" target=\"_blank\"><img src=\"https://drive.google.com/uc?id=1buQlTY5D-uT18rsjmp-hO60sjtN0rpXg\" \n",
        "alt=\"IMAGE ALT TEXT HERE\" width=\"700\" border=\"0\" /></a>\n"
      ]
    },
    {
      "cell_type": "markdown",
      "metadata": {
        "id": "Dk3ekSpTxyoe"
      },
      "source": [
        "**Пример рекомендательной системы Amazon.com**"
      ]
    },
    {
      "cell_type": "markdown",
      "metadata": {
        "id": "kVL4BOUmxyof"
      },
      "source": [
        "![](imdb.png)\n",
        "\n",
        "<a href=\"https://drive.google.com/uc?id=1jAZLpihYxu_FPvN9PIJ1G4S_KvO_6Ku6\n",
        "\" target=\"_blank\"><img src=\"https://drive.google.com/uc?id=1zEIj_g4A-5assEIxY7UCQpLMsaETmyCi\" \n",
        "alt=\"IMAGE ALT TEXT HERE\" width=\"700\" border=\"0\" /></a>\n"
      ]
    },
    {
      "cell_type": "markdown",
      "metadata": {
        "id": "HKjLouqcxyog"
      },
      "source": [
        "**Рекомендация фильмов от IMDb**"
      ]
    },
    {
      "cell_type": "markdown",
      "metadata": {
        "id": "qyeCkv1Yxyoh"
      },
      "source": [
        "Естественный способ получить рекомендацию о чем-либо - спросить мнение об этом у друзей или любых людей, которым нравится то же, что и вам. Эту идею можно использовать и для машины: для каждого человека алгоритм просматривает большую группу людей и ищет в ней подгруппу с похожим на данного человека вкусом. Далее создается список того, что еще нравится этим людям, а затем человеку рекомендуются предложения из этого списка. Такой алгоритм называется алгоритмом **коллаборативной фильтрации**. "
      ]
    },
    {
      "cell_type": "markdown",
      "metadata": {
        "id": "Gyar1-zixyoi"
      },
      "source": [
        "**Отключаем предупреждения**\n",
        "\n",
        "Библиотека **warnings** отвечает за то, какие предупреждения (warnings) о работе будут выводиться пользователю. \n",
        "FutureWarning - предупреждения о том, как изменится работа библиотек в будущих версиях. Такие предупреждения мы будем игнорировать.\n",
        "Чтобы включить режим игнорирования, мы отбираем все предупреждения из категории FutureWarning и выбираем для них действия 'ignore'.\n",
        "Это делается вызовом функции simplefilter c задание двух атрибутов: действия action и категории предупреждений category."
      ]
    },
    {
      "cell_type": "code",
      "metadata": {
        "id": "ckjaZ99Bxyoj"
      },
      "source": [
        "import warnings\n",
        "warnings.filterwarnings(\"ignore\")"
      ],
      "execution_count": 3,
      "outputs": []
    },
    {
      "cell_type": "markdown",
      "metadata": {
        "id": "KVU_vx2kxyon"
      },
      "source": [
        "Для красивого вывода на экран сложных объектов будем использовать **pprint**"
      ]
    },
    {
      "cell_type": "code",
      "metadata": {
        "id": "C98_ZyD-xyoo"
      },
      "source": [
        "import pprint\n",
        "pp = pprint.PrettyPrinter(indent=4)"
      ],
      "execution_count": 4,
      "outputs": []
    },
    {
      "cell_type": "markdown",
      "metadata": {
        "id": "6Rcimj60xyoq"
      },
      "source": [
        "### Подготовка данных"
      ]
    },
    {
      "cell_type": "markdown",
      "metadata": {
        "id": "Ajb_6W7lt8Yp"
      },
      "source": [
        "Для разминки используем пример из книги Т.Сегарана \"Программируем коллективный разум\"."
      ]
    },
    {
      "cell_type": "markdown",
      "metadata": {
        "id": "W1k3PWS_xyor"
      },
      "source": [
        "Чтобы хранить сразу много предпочтений для каждого человека, удобнее всего воспользоваться **вложенным словарем**. \n",
        "\n",
        "Самый простой способ создать словарь в python - использовать фигурные скобки {}. Данные в словаре хранятся в формате ключ – значение, разделенные двоеточием:\n",
        "\n",
        "```python\n",
        "dict = {'key': 'value'}\n",
        "```\n",
        "\n",
        "Мы будем работать с *вложенным словарем* кинокритиков и выставленных ими оценок для небольшого набора данных о фильмах. Построим его следующим образом:\n",
        "\n",
        "1) для каждого кинокритика создаем словарь оценок фильмов в формате\n",
        "   ```python\n",
        "    scores_dict = {\n",
        "        'film_1': 'score_1', \n",
        "        'film_2': 'score_2', \n",
        "        ...\n",
        "    }\n",
        "   ```\n",
        "   \n",
        "2) создаем словарь кинокритиков, где в качестве значений будет соответствующий ему словарь оценок\n",
        "   ```python\n",
        "     critics = {\n",
        "         'name_1': 'scores_dict_1', \n",
        "         'name_2': 'scores_dict_2',\n",
        "         ...\n",
        "     }\n",
        "   ```\n",
        "   \n",
        "**Code 1:**"
      ]
    },
    {
      "cell_type": "code",
      "metadata": {
        "id": "rW47UBSVxyos"
      },
      "source": [
        "# Словарь кинокритиков и выставленных ими оценок\n",
        "critics={'Lisa Rose': {'Lady in the Water': 2.5, 'Snakes on a Plane': 3.5,\n",
        " 'Just My Luck': 3.0, 'Superman Returns': 3.5, 'You, Me and Dupree': 2.5, \n",
        " 'The Night Listener': 3.0},\n",
        "'Gene Seymour': {'Lady in the Water': 3.0, 'Snakes on a Plane': 3.5, \n",
        " 'Just My Luck': 1.5, 'Superman Returns': 5.0, 'The Night Listener': 3.0, \n",
        " 'You, Me and Dupree': 3.5}, \n",
        "'Michael Phillips': {'Lady in the Water': 2.5, 'Snakes on a Plane': 3.0,\n",
        " 'Superman Returns': 3.5, 'The Night Listener': 4.0},\n",
        "'Claudia Puig': {'Snakes on a Plane': 3.5, 'Just My Luck': 3.0,\n",
        " 'The Night Listener': 4.5, 'Superman Returns': 4.0, \n",
        " 'You, Me and Dupree': 2.5},\n",
        "'Mick LaSalle': {'Lady in the Water': 3.0, 'Snakes on a Plane': 4.0, \n",
        " 'Just My Luck': 2.0, 'Superman Returns': 3.0, 'The Night Listener': 3.0,\n",
        " 'You, Me and Dupree': 2.0}, \n",
        "'Jack Matthews': {'Lady in the Water': 3.0, 'Snakes on a Plane': 4.0,\n",
        " 'The Night Listener': 3.0, 'Superman Returns': 5.0, 'You, Me and Dupree': 3.5},\n",
        "'Toby': {'Snakes on a Plane':4.5,'You, Me and Dupree':1.0,'Superman Returns':4.0}}"
      ],
      "execution_count": 5,
      "outputs": []
    },
    {
      "cell_type": "code",
      "metadata": {
        "id": "PeqIatl7xyov"
      },
      "source": [
        "pp.pprint(critics)"
      ],
      "execution_count": 6,
      "outputs": [
        {
          "output_type": "stream",
          "name": "stdout",
          "text": [
            "{   'Claudia Puig': {   'Just My Luck': 3.0,\n                        'Snakes on a Plane': 3.5,\n                        'Superman Returns': 4.0,\n                        'The Night Listener': 4.5,\n                        'You, Me and Dupree': 2.5},\n    'Gene Seymour': {   'Just My Luck': 1.5,\n                        'Lady in the Water': 3.0,\n                        'Snakes on a Plane': 3.5,\n                        'Superman Returns': 5.0,\n                        'The Night Listener': 3.0,\n                        'You, Me and Dupree': 3.5},\n    'Jack Matthews': {   'Lady in the Water': 3.0,\n                         'Snakes on a Plane': 4.0,\n                         'Superman Returns': 5.0,\n                         'The Night Listener': 3.0,\n                         'You, Me and Dupree': 3.5},\n    'Lisa Rose': {   'Just My Luck': 3.0,\n                     'Lady in the Water': 2.5,\n                     'Snakes on a Plane': 3.5,\n                     'Superman Returns': 3.5,\n                     'The Night Listener': 3.0,\n                     'You, Me and Dupree': 2.5},\n    'Michael Phillips': {   'Lady in the Water': 2.5,\n                            'Snakes on a Plane': 3.0,\n                            'Superman Returns': 3.5,\n                            'The Night Listener': 4.0},\n    'Mick LaSalle': {   'Just My Luck': 2.0,\n                        'Lady in the Water': 3.0,\n                        'Snakes on a Plane': 4.0,\n                        'Superman Returns': 3.0,\n                        'The Night Listener': 3.0,\n                        'You, Me and Dupree': 2.0},\n    'Toby': {   'Snakes on a Plane': 4.5,\n                'Superman Returns': 4.0,\n                'You, Me and Dupree': 1.0}}\n"
          ]
        }
      ]
    },
    {
      "cell_type": "code",
      "metadata": {
        "id": "MmL4pN-gzSDP"
      },
      "source": [
        "for i in critics.keys():\n",
        "  print(critics[i])"
      ],
      "execution_count": 7,
      "outputs": [
        {
          "output_type": "stream",
          "name": "stdout",
          "text": [
            "{'Lady in the Water': 2.5, 'Snakes on a Plane': 3.5, 'Just My Luck': 3.0, 'Superman Returns': 3.5, 'You, Me and Dupree': 2.5, 'The Night Listener': 3.0}\n{'Lady in the Water': 3.0, 'Snakes on a Plane': 3.5, 'Just My Luck': 1.5, 'Superman Returns': 5.0, 'The Night Listener': 3.0, 'You, Me and Dupree': 3.5}\n{'Lady in the Water': 2.5, 'Snakes on a Plane': 3.0, 'Superman Returns': 3.5, 'The Night Listener': 4.0}\n{'Snakes on a Plane': 3.5, 'Just My Luck': 3.0, 'The Night Listener': 4.5, 'Superman Returns': 4.0, 'You, Me and Dupree': 2.5}\n{'Lady in the Water': 3.0, 'Snakes on a Plane': 4.0, 'Just My Luck': 2.0, 'Superman Returns': 3.0, 'The Night Listener': 3.0, 'You, Me and Dupree': 2.0}\n{'Lady in the Water': 3.0, 'Snakes on a Plane': 4.0, 'The Night Listener': 3.0, 'Superman Returns': 5.0, 'You, Me and Dupree': 3.5}\n{'Snakes on a Plane': 4.5, 'You, Me and Dupree': 1.0, 'Superman Returns': 4.0}\n"
          ]
        }
      ]
    },
    {
      "cell_type": "markdown",
      "metadata": {
        "id": "fhKbiEVUxyo1"
      },
      "source": [
        "**Code 2:**  \n",
        "Выведем оценки, которые выставил Toby"
      ]
    },
    {
      "cell_type": "code",
      "metadata": {
        "id": "shl5uOURxyo1"
      },
      "source": [
        "critics['Toby']"
      ],
      "execution_count": 8,
      "outputs": [
        {
          "output_type": "execute_result",
          "data": {
            "text/plain": [
              "{'Snakes on a Plane': 4.5, 'You, Me and Dupree': 1.0, 'Superman Returns': 4.0}"
            ]
          },
          "metadata": {},
          "execution_count": 8
        }
      ]
    },
    {
      "cell_type": "markdown",
      "metadata": {
        "id": "m-DbnG-Lxyo4"
      },
      "source": [
        "**Code 3:**  \n",
        "Выведем оценку критика Lisa Rose для фильма Lady in the Water"
      ]
    },
    {
      "cell_type": "code",
      "metadata": {
        "id": "_e4_I81Vxyo5"
      },
      "source": [
        "critics['Lisa Rose']['Lady in the Water']"
      ],
      "execution_count": 9,
      "outputs": [
        {
          "output_type": "execute_result",
          "data": {
            "text/plain": [
              "2.5"
            ]
          },
          "metadata": {},
          "execution_count": 9
        }
      ]
    },
    {
      "cell_type": "markdown",
      "metadata": {
        "id": "MmOU7kAT34tn"
      },
      "source": [
        "Какой здесь могла бы быть неперсонализированная рекомендация? Попробуйте написать свою реализацию неперсонализированной рекомендации."
      ]
    },
    {
      "cell_type": "markdown",
      "metadata": {
        "id": "cf4lbaFSxyo7"
      },
      "source": [
        "### Критерий похожести"
      ]
    },
    {
      "cell_type": "markdown",
      "metadata": {
        "id": "iOgyFSQQxyo8"
      },
      "source": [
        "Как мы уже говорили, чтобы выделить подгруппу людей с похожим вкусом, необходимо как-то определить, насколько люди похожи. В нашем случае мы будем сравнивать оценки людей у одинаковых фильмов. Мы рассмотрим два способа сравнения. С помощью \n",
        "- расстояния Евклида \n",
        "- корреляции Пирсона"
      ]
    },
    {
      "cell_type": "markdown",
      "metadata": {
        "id": "88OOgKKXxyo9"
      },
      "source": [
        "**Оценка по евклидову расстоянию**"
      ]
    },
    {
      "cell_type": "markdown",
      "metadata": {
        "id": "2UhBb6NWxyo9"
      },
      "source": [
        "Евклидово расстояние для точек $x = (x_1, x_2, ... , x_n)$ и $y = (y_1, y_2, ... , y_n)$ определяется следующим образом:\n",
        "\n",
        "\\begin{equation}\n",
        "d(x, y) = \\sqrt{\\sum_{i = 1}^n (x_i - y_i)^2}\n",
        "\\end{equation}"
      ]
    },
    {
      "cell_type": "markdown",
      "metadata": {
        "id": "qJ3URIOrxyo-"
      },
      "source": [
        ""
      ]
    },
    {
      "cell_type": "markdown",
      "metadata": {
        "id": "sPSNyHX5xypC"
      },
      "source": [
        "Для понимания расстояния Евклида рассмотрим случай, когда *n = 2*. То есть каждый объект выборки (точка) описывается двумя параметрами (координатами). $x = (x_1, x_2)$ и $y = (y_1, y_2)$. Тогда Евклидово расстояние равно расстоянию между точками на плоскости.\n",
        "\n",
        "\\begin{equation}\n",
        "d(x, y) = \\sqrt{\\sum_{i = 1}^n (x_i - y_i)^2} = \\sqrt{(x_2 - x_1)^2 + (y_2 - y_1)^2}\n",
        "\\end{equation}\n",
        "\n",
        "Или, если представить задачу геометрически:\n",
        "\n",
        "<a href=\"https://drive.google.com/uc?id=1jAZLpihYxu_FPvN9PIJ1G4S_KvO_6Ku6\n",
        "\" target=\"_blank\"><img src=\"https://drive.google.com/uc?id=1BXgfArl4T8N2M4eFur3JrsGloGWDDAlb\" \n",
        "alt=\"IMAGE ALT TEXT HERE\" width=\"300\" border=\"0\" /></a>\n"
      ]
    },
    {
      "cell_type": "markdown",
      "metadata": {
        "id": "aLHAD9ECyX5A"
      },
      "source": [
        "Для вычисления квадратного корня можно воспользоваться готовой функцией **sqrt()** из библиотеки для работы с числами **math**:\n",
        "\n",
        "**Code 4:**"
      ]
    },
    {
      "cell_type": "markdown",
      "metadata": {
        "id": "z9WNha1hvmhb"
      },
      "source": [
        "**Упражнение 1**  \n",
        "Реализуем функцию для вычисления расстояния Евклида"
      ]
    },
    {
      "cell_type": "code",
      "metadata": {
        "id": "M8PyCnouvp-G"
      },
      "source": [
        "from math import sqrt\n",
        "\n",
        "def compute_euclid(x, y):    \n",
        "  distance = 0\n",
        "\n",
        "  if len(x) != len(y):\n",
        "    return distance\n",
        "\n",
        "  for i in range(len(x)):\n",
        "    distance += (y[i] - x[i])**2\n",
        "\n",
        "  return sqrt(distance)\n",
        "\n"
      ],
      "execution_count": 10,
      "outputs": []
    },
    {
      "cell_type": "markdown",
      "metadata": {
        "id": "MP5fk4udxypC"
      },
      "source": [
        "Для примера вычислим расстояния Евклида для близких точек с координатам (1, 1) и (2, 1):\n",
        "\n",
        "**Code 5:**"
      ]
    },
    {
      "cell_type": "code",
      "metadata": {
        "id": "1BJV1H73xypD",
        "outputId": "28b92d5e-de41-46a4-e352-1b8223079354",
        "colab": {
          "base_uri": "https://localhost:8080/",
          "height": 34
        }
      },
      "source": [
        "compute_euclid([1, 1], [2, 1])"
      ],
      "execution_count": 11,
      "outputs": [
        {
          "output_type": "execute_result",
          "data": {
            "text/plain": [
              "1.0"
            ]
          },
          "metadata": {},
          "execution_count": 11
        }
      ]
    },
    {
      "cell_type": "markdown",
      "metadata": {
        "id": "QPl2ZDzSxypI"
      },
      "source": [
        "Теперь вычислим расстояния Евклида для точек, которые находятся далеко (1, 1) и (8, 10):\n",
        "\n",
        "**Code 6:**"
      ]
    },
    {
      "cell_type": "code",
      "metadata": {
        "id": "oS5NfMNHxypJ"
      },
      "source": [
        "compute_euclid([1, 1], [8, 10])"
      ],
      "execution_count": 12,
      "outputs": [
        {
          "output_type": "execute_result",
          "data": {
            "text/plain": [
              "11.40175425099138"
            ]
          },
          "metadata": {},
          "execution_count": 12
        }
      ]
    },
    {
      "cell_type": "markdown",
      "metadata": {
        "id": "AZkWMa__xypL"
      },
      "source": [
        "Расстояние, вычисленное по этой формуле, будет тем меньше, чем больше сходство людей (чем ближе точки). Нам же нужна функция, значение которой будет, наоборот, большое, если люди сильно похожи друг на друга. То есть схожесть больше (от 0 до 1), если точки ближе друг другу\n",
        "\n",
        "\n",
        "Для этого будем использовать функцию \"похожести\" в таком виде:\n",
        "\n",
        "\\begin{equation}\n",
        "\\text{similarity }(x, y) = \\dfrac{1}{1 + d(x, y)},\n",
        "\\end{equation}\n",
        "\n",
        "где $d(x, y)$ - расстояние Евклида. "
      ]
    },
    {
      "cell_type": "markdown",
      "metadata": {
        "id": "S0BcscxQxypM"
      },
      "source": [
        "Пример вычисления сходства по новой функции для точек с координатами (1, 1) и (2, 3):\n",
        "\n",
        "**Code 7:**"
      ]
    },
    {
      "cell_type": "code",
      "metadata": {
        "id": "NthnN2f3xypN",
        "outputId": "ce268868-3e61-432b-acf3-a072f0e4ca68",
        "colab": {
          "base_uri": "https://localhost:8080/",
          "height": 34
        }
      },
      "source": [
        "1 / (1 + compute_euclid([1, 1], [2, 3]))"
      ],
      "execution_count": 13,
      "outputs": [
        {
          "output_type": "execute_result",
          "data": {
            "text/plain": [
              "0.3090169943749474"
            ]
          },
          "metadata": {},
          "execution_count": 13
        }
      ]
    },
    {
      "cell_type": "markdown",
      "metadata": {
        "id": "1FTeBZ00xypQ"
      },
      "source": [
        "Пример вычисления сходства по новой функции для точек с координатами (1, 1) и (8, 10):\n",
        "\n",
        "**Code 8:**"
      ]
    },
    {
      "cell_type": "code",
      "metadata": {
        "id": "UODSjEYaxypQ",
        "outputId": "8ecd975c-3475-4a28-9652-55354a025c2f",
        "colab": {
          "base_uri": "https://localhost:8080/",
          "height": 34
        }
      },
      "source": [
        "1 / (1 + compute_euclid([1, 1], [8, 10]))"
      ],
      "execution_count": 14,
      "outputs": [
        {
          "output_type": "execute_result",
          "data": {
            "text/plain": [
              "0.08063375388365411"
            ]
          },
          "metadata": {},
          "execution_count": 14
        }
      ]
    },
    {
      "cell_type": "markdown",
      "metadata": {
        "id": "KxSbdwfTxypT"
      },
      "source": [
        "Далее реализуем несколько простых функций для коллаборативной фильтрации на основе ближайшего соседа. \n",
        "\n",
        "**Code 9:**\n",
        "\n",
        "**Упражнение 2.** Получить список фильмов, оцененных обоими"
      ]
    },
    {
      "cell_type": "code",
      "metadata": {
        "id": "nndrawDG2ni7"
      },
      "source": [
        "def similar_films(critics_dict, person1, person2):\n",
        "    # создаем пустой список фильмов с названием \n",
        "    sim_film = []\n",
        "    # для всех фильмов у person1, если такой фильм оценивался person 2, добавляем этот фильм в список sim_film\n",
        "\n",
        "    for film in critics_dict[person1]:\n",
        "        if film in critics_dict[person2]:\n",
        "            sim_film.append(film)\n",
        "\n",
        "    return sim_film"
      ],
      "execution_count": 15,
      "outputs": []
    },
    {
      "cell_type": "markdown",
      "metadata": {
        "id": "QHfiH9dTxypX"
      },
      "source": [
        "Сначала реализуем функцию для подсчета сходства двух критиков на основе расстояния Евклида. Назовём функцию  **sim_distance()**. Функция будет использовать функцию **similar_films()** и принимать на вход три аргумента:\n",
        "* словарь критиков\n",
        "* имя первого критика для сравнения\n",
        "* имя второго критика для сравнения\n",
        "\n",
        "**Упражнение 3**. Подсчет сходства двух критиков на основе расстояния Евклида"
      ]
    },
    {
      "cell_type": "code",
      "metadata": {
        "id": "6I2lAkfV3DLb"
      },
      "source": [
        "\n",
        "def sim_distance(critics_dict, person1, person2):\n",
        "    # используем написанную функцию для получения фильмов, оцененных обоими критиками\n",
        "    sim_films = similar_films(critics_dict, person1, person2)\n",
        "\n",
        "    # если нет ни одной общей оценки, то есть длина sim_film равна 0 - вернуть 0\n",
        "    if len(sim_films) == 0:\n",
        "        return 0\n",
        "    \n",
        "    # для каждого фильма из sim_film посчитаем евклидово расстояние и просуммируем все полученные значения sum_of_euclead_dist\n",
        "    sum_of_euclead_dist = 0\n",
        "    for film in sim_films:\n",
        "        sum_of_euclead_dist = sum_of_euclead_dist + ((critics_dict[person1][film] - critics_dict[person2][film])**2)\n",
        "    \n",
        "    # считаем похожесть \n",
        "    score = 1 / (1 + sum_of_euclead_dist)\n",
        "\n",
        "    return score"
      ],
      "execution_count": 16,
      "outputs": []
    },
    {
      "cell_type": "markdown",
      "metadata": {
        "id": "ravKDWOaxypY"
      },
      "source": [
        "Посмотрим, как работает эта функция для двух критиков Lisa Rose и Toby:\n",
        "\n",
        "**Code 10:**"
      ]
    },
    {
      "cell_type": "code",
      "metadata": {
        "id": "Dol4H8AgxypZ"
      },
      "source": [
        "sim_distance(critics, 'Lisa Rose', 'Toby')"
      ],
      "execution_count": 17,
      "outputs": [
        {
          "output_type": "execute_result",
          "data": {
            "text/plain": [
              "0.2222222222222222"
            ]
          },
          "metadata": {},
          "execution_count": 17
        }
      ]
    },
    {
      "cell_type": "markdown",
      "metadata": {
        "id": "WCtW_24Sxype"
      },
      "source": [
        "Эта функция работает также как:\n",
        "\n",
        "\\begin{equation}\n",
        "\\text{similarity }(x, y) = \\dfrac{1}{1 + d(x, y)},\n",
        "\\end{equation}\n",
        "\n",
        "где $d(x, y)$ - расстояние Евклида. \n",
        "\n",
        "Однако, по осям будет фильмы и оценки от критиков. Если у критиков нет одинаковых фильмов, то мы этих критиков не рассматриваем"
      ]
    },
    {
      "cell_type": "markdown",
      "metadata": {
        "id": "nMyTUfCbxypf"
      },
      "source": [
        "**Коэффициент корреляции Пирсона** "
      ]
    },
    {
      "cell_type": "markdown",
      "metadata": {
        "id": "0Bq9JuCExypg"
      },
      "source": [
        "Другой способ определять степень схожести - использовать коэффициент корреляции Пирсона. Этот коэффициент показывает, насколько два набора данных хорошо ложатся на прямую. "
      ]
    },
    {
      "cell_type": "markdown",
      "metadata": {
        "id": "Inb-3sBExyph"
      },
      "source": [
        "<a href=\"https://drive.google.com/uc?id=1jAZLpihYxu_FPvN9PIJ1G4S_KvO_6Ku6\n",
        "\" target=\"_blank\"><img src=\"https://drive.google.com/uc?id=1qXZxG2sE3Y0oAcgayaEdN6nCYVunj_83\" \n",
        "alt=\"IMAGE ALT TEXT HERE\" width=\"800\" border=\"0\" /></a>"
      ]
    },
    {
      "cell_type": "markdown",
      "metadata": {
        "id": "LRepT7krxypi"
      },
      "source": [
        "Два кинокритика со средним значением корреляции 0.41 (слева) и два кинокритика с высоким значением корреляции 0.75 (справа).  "
      ]
    },
    {
      "cell_type": "markdown",
      "metadata": {
        "id": "uKzTDyNcxypj"
      },
      "source": [
        "Корреляция Пирсона считается по формуле: \n",
        "    \n",
        "\\begin{equation}\n",
        "    \\text{corr}(x, y) = \\dfrac{\\sum_{i = 1}^n (x_i - \\frac{\\sum_{j = 1}^n x_j}{n}) (y_i - \\frac{\\sum_{j = 1}^n y_j}{n})}{\\sqrt{\\sum_{i = 1}^n (x_i - \\frac{\\sum_{j = 1}^n x_j}{n})^2 \\sum_{i = 1}^n (y_i - \\frac{\\sum_{j = 1}^n y_j}{n})^2}}\n",
        "\\end{equation}"
      ]
    },
    {
      "cell_type": "markdown",
      "metadata": {
        "id": "p3E7vXwAxypj"
      },
      "source": [
        "По аналогии с функцией **sim_distance()** реализуйте функцию для подсчета сходства двух критиков на основе корреляции Пирсона. Назовём её  **sim_pearson()**. Функция принимает на вход те же самые аргументы, что и **sim_distance()**:\n",
        "* словарь критиков\n",
        "* имя первого критика для сравнения\n",
        "* имя второго критика для сравнения"
      ]
    },
    {
      "cell_type": "markdown",
      "metadata": {
        "collapsed": true,
        "id": "xsZWvacrxypk"
      },
      "source": [
        "Посмотрим, как работает эта функция для двух критиков Lisa Rose и Gene Seymour:\n",
        "\n",
        "**Code 11:**  \n",
        "**Упражнение 4.** Допишите функцию для вычисления корреляции Пирсона"
      ]
    },
    {
      "cell_type": "code",
      "metadata": {
        "id": "XBZxMyLAv7OU"
      },
      "source": [
        "def pearson_corr(x, y):\n",
        "    numerator = 0\n",
        "    denomirator_x = 0\n",
        "    denomirator_y = 0\n",
        "\n",
        "    x_mean = sum(x)/len(x)\n",
        "    y_mean = sum(y)/len(x)\n",
        "\n",
        "    for i in range(len(x)):\n",
        "        numerator = numerator + (x[i] - x_mean)*(y[i] - y_mean)\n",
        "        denomirator_x = denomirator_x + (x[i] - x_mean)**2\n",
        "        denomirator_y = denomirator_y + (y[i] - y_mean)**2\n",
        "\n",
        "    return numerator/ sqrt(denomirator_x * denomirator_y)"
      ],
      "execution_count": 18,
      "outputs": []
    },
    {
      "cell_type": "markdown",
      "metadata": {
        "id": "Q9gk8ZUq5l-l"
      },
      "source": [
        "Применение без функции **sim_pearson()**:"
      ]
    },
    {
      "cell_type": "code",
      "metadata": {
        "id": "w-0G2kHBv_sM"
      },
      "source": [
        "x = []\n",
        "y = []\n",
        "for film in critics['Lisa Rose']:\n",
        "    x.append(critics['Lisa Rose'][film])\n",
        "    y.append(critics['Gene Seymour'][film])\n",
        "\n",
        "print(pearson_corr(x, y))"
      ],
      "execution_count": 19,
      "outputs": [
        {
          "output_type": "stream",
          "name": "stdout",
          "text": [
            "0.39605901719066977\n"
          ]
        }
      ]
    },
    {
      "cell_type": "markdown",
      "metadata": {
        "id": "JU0cGdvTwFaX"
      },
      "source": [
        "Это та же функция, но из библиотеки"
      ]
    },
    {
      "cell_type": "code",
      "metadata": {
        "id": "2F-k6JIFwE9P"
      },
      "source": [
        "from scipy.stats import pearsonr\n",
        "pearsonr(x, y)[0]     # берем [0] от результата, так как функция pearsonr() возвращает еще значение p-value"
      ],
      "execution_count": 21,
      "outputs": [
        {
          "output_type": "execute_result",
          "data": {
            "text/plain": [
              "0.3960590171906697"
            ]
          },
          "metadata": {},
          "execution_count": 21
        }
      ]
    },
    {
      "cell_type": "markdown",
      "metadata": {
        "id": "YpjrJhBx5GJs"
      },
      "source": [
        "**Упражнение 5.** Допишите функцию **sim_pearson()**"
      ]
    },
    {
      "cell_type": "code",
      "metadata": {
        "id": "ZbFTAxd35FMT"
      },
      "source": [
        "# Возвращает коэффициент корреляции Пирсона между person1 и person2\n",
        "def sim_pearson(critics_dict, person1, person2):\n",
        "    from math import isnan # это нам пригодиться для обработки деления на 0\n",
        "\n",
        "    # получить список фильмов, оцененных обоими критиками\n",
        "    sim_films = similar_films(critics_dict, person1, person2)\n",
        "\n",
        "    # если нет ни одной общей оценки, вернуть 0\n",
        "    if len(sim_films) < 2:\n",
        "        return 0\n",
        "    \n",
        "    # получим оценки критиков для фильмов из пересечения\n",
        "    scores1 = []\n",
        "    scores2 = []\n",
        "    for film in sim_films:\n",
        "        scores1.append(critics_dict[person1][film])\n",
        "        scores2.append(critics_dict[person2][film])\n",
        "\n",
        "    # посчитаем коэффициент корреляции\n",
        "    r = pearson_corr(scores1, scores2)\n",
        "\n",
        "    # если вдруг было деление на ноль и функция вернула nan, то присваиваем ноль\n",
        "    if isnan(r):\n",
        "        r = 0\n",
        "    return r"
      ],
      "execution_count": 22,
      "outputs": []
    },
    {
      "cell_type": "code",
      "metadata": {
        "id": "V4quusN2xypl"
      },
      "source": [
        "sim_pearson(critics, 'Lisa Rose', 'Gene Seymour')"
      ],
      "execution_count": 23,
      "outputs": [
        {
          "output_type": "execute_result",
          "data": {
            "text/plain": [
              "0.39605901719066977"
            ]
          },
          "metadata": {},
          "execution_count": 23
        }
      ]
    },
    {
      "cell_type": "markdown",
      "metadata": {
        "id": "llNUr_9xxypo"
      },
      "source": [
        "### Ранжирование критиков"
      ]
    },
    {
      "cell_type": "markdown",
      "metadata": {
        "id": "9GHarQp1xypp"
      },
      "source": [
        "После того как мы выбрали критерий для сравнения двух людей, можно начать искать для каждого человека подгруппу других людей с наиболее похожими вкусами. \n",
        "\n",
        "Для этого реализуем функцию **topMatches()**. Функция будет возвращать список n наилучших соответствий для человека из словаря `critics`. \n",
        "\n",
        "Соответственно, аргументы у функции: \n",
        "* словарь критиков *critics\\_dict*\n",
        "* имя персоны *person*, для которой подбираем соответствия \n",
        "* число *n* наилучших соответствий \n",
        "\n",
        "Кроме этого, так как мы хотим использовать различные расстояния, то в качестве аргумента мы будем также передавать имя функции-расстояния (*similarity*).  "
      ]
    },
    {
      "cell_type": "markdown",
      "metadata": {
        "id": "IICRst0Mxypp"
      },
      "source": [
        "\n",
        "**Code 12:**"
      ]
    },
    {
      "cell_type": "markdown",
      "metadata": {
        "id": "l11l0LBWxyps"
      },
      "source": [
        "Как работает эта функция: \n",
        "*  считаем схожесть интересующего нас критика с каждым другим критиком используя функцию **similarity**\n",
        "*  сортируем результаты\n",
        "*  возвращаем топ **n** результатов\n",
        "\n",
        "\n",
        "**Упражнение 6**. Напишите функцию, которая озвращает топ-n наиболее похожих на person человек из critics_dict"
      ]
    },
    {
      "cell_type": "code",
      "metadata": {
        "id": "c7_ewZCi7RYs"
      },
      "source": [
        "\n",
        "def topMatches(critics_dict, person, n=5, similarity=sim_pearson):\n",
        "    # инициализируем список оценок похожести\n",
        "    scores = []\n",
        "\n",
        "    # для каждого человека в словаре критиков, если этот человек не тот, для которого мы подбираем соответствия\n",
        "    for user in critics_dict:\n",
        "        if user != person:\n",
        "            # добавить в scores похожесть, вычисленную с помощью функции, записанной в similarity, и имя человека\n",
        "            scores.append((similarity(critics_dict, user, person), user))\n",
        "            \n",
        "    # отсортировать список по убыванию оценок\n",
        "    scores.sort(reverse = True)\n",
        "\n",
        "    # возвращаем первые n человек    \n",
        "    return scores[:n]\n",
        "  "
      ],
      "execution_count": 24,
      "outputs": []
    },
    {
      "cell_type": "markdown",
      "metadata": {
        "id": "a6zrN8IRxypt"
      },
      "source": [
        "**Code 13:**  \n",
        "**Упражнение 7.** Вычислите топ-3 критиков похожих на Toby по евклидову расстоянию и по корреляции Пирсона. Они отличаются?"
      ]
    },
    {
      "cell_type": "code",
      "metadata": {
        "id": "63IHuLZSxypu"
      },
      "source": [
        "topMatches(critics,'Toby', n=3)"
      ],
      "execution_count": 25,
      "outputs": [
        {
          "output_type": "execute_result",
          "data": {
            "text/plain": [
              "[(0.9912407071619304, 'Lisa Rose'),\n",
              " (0.924473451641905, 'Mick LaSalle'),\n",
              " (0.8934051474415644, 'Claudia Puig')]"
            ]
          },
          "metadata": {},
          "execution_count": 25
        }
      ]
    },
    {
      "cell_type": "markdown",
      "metadata": {
        "id": "UnsodNg7xypw"
      },
      "source": [
        "Выбор расстояния для подбора похожести зависит от конкретной задачи. Имеет смысл попробовать разные критерии и посмотреть, какой из них дает наилучший результат. "
      ]
    },
    {
      "cell_type": "markdown",
      "metadata": {
        "id": "C4Ok7gk1xypx"
      },
      "source": [
        "## Рекомендация фильмов (User-based подход)"
      ]
    },
    {
      "cell_type": "markdown",
      "metadata": {
        "id": "oigqx0dDxypy"
      },
      "source": [
        "Мы умеем находить людей с похожим мнением как у рассматриваемого человека. Но как получить конкретную рекомендацию с набором фильмов? Можно было бы просто посмотреть на то, какие фильмы понравились похожему человеку, и выбрать из них не просмотренные. Однако, такой способ не стабилен: можем, например, отобрать критика, которому по каким-то причинам понравился фильм, получивший негативные оценки от остальных. \n",
        "\n",
        "Чтобы разрешить эту проблему, можно ранжировать сами фильмы, вычисляя взвешенную сумму оценок критиков. Мы будем брать оценку фильма у критика и умножать его на коэффициент похожести с тем, для которого мы строим рекомендацию. Затем полученный результат суммировать и нормировать.  \n",
        "\n",
        "Идея такого подхода в том, что люди похожие на тебя вносят больший вклад в \"рейтинг\" фильма. "
      ]
    },
    {
      "cell_type": "markdown",
      "metadata": {
        "id": "Ep7vuCLpxypz"
      },
      "source": [
        "<a href=\"https://drive.google.com/uc?id=1jAZLpihYxu_FPvN9PIJ1G4S_KvO_6Ku6\n",
        "\" target=\"_blank\"><img src=\"https://drive.google.com/uc?id=1x0QC1Blvr_ZugJ5BKPJdi2Bp30FvBxvL\" \n",
        "alt=\"IMAGE ALT TEXT HERE\" width=\"500\" border=\"0\" /></a>"
      ]
    },
    {
      "cell_type": "markdown",
      "metadata": {
        "id": "CYT3JXArxypz"
      },
      "source": [
        "Давайте реализуем этот подход в функции **getRecommendations()**. Функция принимает на вход следующие аргументы: \n",
        "* словарь критиков *critics\\_dict*\n",
        "* имя персоны *person*, для которой подбираем соответствия \n",
        "* имя функции-критерия для сравнения\n"
      ]
    },
    {
      "cell_type": "markdown",
      "metadata": {
        "id": "HBxow-45xyp8"
      },
      "source": [
        "Как работает эта функция:\n",
        "*  считаем схожесть пользователя с каждым другим пользователем\n",
        "*  перебираем фильмы, которые смотрели другие пользователи, но не смотрел текущий пользователь\n",
        "*  нормируем рейтинг фильмов на основе того насколько он понравился другим пользователям, и того насколько каждый из других пользователей похож на текущего пользователя\n",
        "*  сортируем список\n",
        "\n",
        "**Code 14:**"
      ]
    },
    {
      "cell_type": "code",
      "metadata": {
        "id": "EjKVCF0C-BxP"
      },
      "source": [
        "# Получить рекомендации для заданного человека, пользуясь взвешенным средним\n",
        "# оценок, данных всеми остальными пользователями\n",
        "def getRecommendations(prefs, person, similarity=sim_pearson):\n",
        "\n",
        "    # инициализируем словари\n",
        "    totals = {}\n",
        "    simSums = {}\n",
        "\n",
        "    # для каждого пользователя\n",
        "    for other in prefs:\n",
        "    # сравнивать person с person не нужно\n",
        "        if other == person:\n",
        "            continue\n",
        "        # считаем похожесть\n",
        "        sim = similarity(prefs, person, other)\n",
        "\n",
        "        # игнорировать нулевые и отрицательные значения похожести\n",
        "        if sim <= 0:\n",
        "            continue\n",
        "\n",
        "        # для каждого фильма в оцененных other\n",
        "        for item in prefs[other]:\n",
        "\n",
        "            # оценивать только фильмы, которые я еще не смотрел\n",
        "            if item not in prefs[person] or prefs[person][item] == 0:\n",
        "\n",
        "                # коэффициент подобия * Оценка\n",
        "                totals.setdefault(item,0)\n",
        "                totals[item] = totals[item] + prefs[other][item]*sim\n",
        "\n",
        "                # cумма коэффициентов подобия\n",
        "                simSums.setdefault(item,0)\n",
        "                simSums[item] = simSums[item] + sim\n",
        "\n",
        "    # создать нормированный список\n",
        "    rankings = [(total/simSums[item], item) for item, total in totals.items( )]\n",
        "\n",
        "    # вернуть отсортированный список\n",
        "    rankings.sort(reverse=True)\n",
        "    return rankings"
      ],
      "execution_count": 26,
      "outputs": []
    },
    {
      "cell_type": "markdown",
      "metadata": {
        "id": "pR4A_2uLxyp9"
      },
      "source": [
        "**Code 15:**"
      ]
    },
    {
      "cell_type": "code",
      "metadata": {
        "id": "68nh1yH-xyp1"
      },
      "source": [
        "getRecommendations(critics,'Toby', sim_pearson)"
      ],
      "execution_count": 27,
      "outputs": [
        {
          "output_type": "execute_result",
          "data": {
            "text/plain": [
              "[(3.3477895267131013, 'The Night Listener'),\n",
              " (2.8325499182641614, 'Lady in the Water'),\n",
              " (2.5309807037655645, 'Just My Luck')]"
            ]
          },
          "metadata": {},
          "execution_count": 27
        }
      ]
    },
    {
      "cell_type": "code",
      "metadata": {
        "id": "H8LpwS_Xxyp9"
      },
      "source": [
        "getRecommendations(critics,'Toby', sim_distance)"
      ],
      "execution_count": 28,
      "outputs": [
        {
          "output_type": "execute_result",
          "data": {
            "text/plain": [
              "[(3.5002478401415877, 'The Night Listener'),\n",
              " (2.7561242939959363, 'Lady in the Water'),\n",
              " (2.461988486074374, 'Just My Luck')]"
            ]
          },
          "metadata": {},
          "execution_count": 28
        }
      ]
    },
    {
      "cell_type": "markdown",
      "metadata": {
        "id": "O4HGFTxnxyqA"
      },
      "source": [
        "Мы получили ранжированный список фильмов, а также прогноз оценки, которую поставит Toby этим фильмам. "
      ]
    },
    {
      "cell_type": "markdown",
      "metadata": {
        "id": "QZ2AV3PIxyqT"
      },
      "source": [
        "## Метрики качества для рекомендательных систем"
      ]
    },
    {
      "cell_type": "markdown",
      "metadata": {
        "id": "GNdfljpXxyqT"
      },
      "source": [
        "Для оценки качества работы рекомендательных систем можно рассмотреть две специальные метрики **Hit Rate** (HR) и **Mean Reciprocal Rank** (MRR).\n",
        "\n",
        "Определим как **попадание** (**hit**) - ситуацию, когда фильм был рекомендован пользователю в топ-N и пользователь посмотрел его. "
      ]
    },
    {
      "cell_type": "markdown",
      "metadata": {
        "id": "vXzO8K8DxyqU"
      },
      "source": [
        "**Hit Rate (HR)**"
      ]
    },
    {
      "cell_type": "markdown",
      "metadata": {
        "id": "494F_M5vxyqU"
      },
      "source": [
        "**Hit Rate (процент попаданий)** определяется как общее число попаданий, нормированное на количество пользователей. \n",
        "\n",
        "$$\n",
        "\\text{HR} = \\frac{1}{\\text{# test users}} \\sum_{\\text{test users}}{\\text{hit}}, \\quad\n",
        "$$\n",
        "\n",
        "Чем больше процент попаданий, тем лучше будет наша система рекомендаций."
      ]
    },
    {
      "cell_type": "markdown",
      "metadata": {
        "id": "MG2WBYqgxyqV"
      },
      "source": [
        "*Замечание*: в некотором смысле, Hit Rate представляет собой производное от классических ML метрик precision и recall. "
      ]
    },
    {
      "cell_type": "markdown",
      "metadata": {
        "id": "IqnXC-9ixyqX"
      },
      "source": [
        "**Mean Reciprocal Rank (MRR)**"
      ]
    },
    {
      "cell_type": "markdown",
      "metadata": {
        "id": "ZEB1TP_BxyqY"
      },
      "source": [
        "Отличие метрики **Mean Reciprocal Rank** от предыдущей в том, что мы учитываем не общее количество попаданий, а обратное рангу (месту в списке рекомендаций) **первое попадание**. Например, если фильм, просмотренный пользователем (попадание), стоял на втором месте, обратное рангу будет равно $\\frac{1}{2}$, а если бы стоял на третьем - $\\frac{1}{3}$ и так далее. "
      ]
    },
    {
      "cell_type": "markdown",
      "metadata": {
        "id": "4yY1VJGNxyqY"
      },
      "source": [
        "$$\n",
        "\\text{MRR} = \\frac{1}{\\text{# test users}} \\sum_{\\text{test users}}{\\frac{1}{\\text{hit rank}}}\n",
        "$$"
      ]
    },
    {
      "cell_type": "markdown",
      "metadata": {
        "id": "d69KOo96xyqb"
      },
      "source": [
        "Рассмотрим на примере. Toby получил следующий список рекомендаций: "
      ]
    },
    {
      "cell_type": "code",
      "metadata": {
        "id": "LjqvONZLxyqe"
      },
      "source": [
        "getRecommendations(critics,'Toby', sim_pearson)"
      ],
      "execution_count": 29,
      "outputs": [
        {
          "output_type": "execute_result",
          "data": {
            "text/plain": [
              "[(3.3477895267131013, 'The Night Listener'),\n",
              " (2.8325499182641614, 'Lady in the Water'),\n",
              " (2.5309807037655645, 'Just My Luck')]"
            ]
          },
          "metadata": {},
          "execution_count": 29
        }
      ]
    },
    {
      "cell_type": "markdown",
      "metadata": {
        "id": "KAS5UJXxxyqh"
      },
      "source": [
        "Допустим, после этого Toby посмотрел 5 фильмов и выставил им следующие оценки:\n"
      ]
    },
    {
      "cell_type": "markdown",
      "metadata": {
        "id": "GlyQ_Jidxyqh"
      },
      "source": [
        "|Score|Film|\n",
        "|----|--------------------|\n",
        "|4.5 | The Departed |\n",
        "|4   | The Night Listener |\n",
        "|3.9 | Lady in the Water |\n",
        "|3.7 | The Firm |\n",
        "|3   | Just My Luck |"
      ]
    },
    {
      "cell_type": "markdown",
      "metadata": {
        "id": "VjT082gPxyqi"
      },
      "source": [
        "Как мы видим, только два фильма из списка рекомендаций попали в личный топ-3 Toby. Получается, что **попадание (hits)** у него 2.\n",
        "\n",
        "**HR = $\\dfrac{1}{1} * 2 = 2$**, так как выборка тестовых пользователей (test\\_users) состоит из одного Toby.  "
      ]
    },
    {
      "cell_type": "markdown",
      "metadata": {
        "id": "3Z2xaFKZxyqj"
      },
      "source": [
        "* **$\\frac{1}{hit\\_rank}$** для фильма The Night Listener - это $\\dfrac{1}{2}$\n",
        "* **$\\frac{1}{hit\\_rank}$** для фильма Lady in the Water - это $\\dfrac{1}{3}$\n",
        "\n",
        "Но фильм **The Night Listener** стоит выше в рейтинге Toby, чем **Lady in the Water**, поэтому:\n",
        "\n",
        "**MRR = $\\dfrac{1}{1}*\\dfrac{1}{2} = \\dfrac{1}{2}$**, так как, опять же, выборка тестовых пользователей (test\\_users) состоит из одного Toby.  "
      ]
    },
    {
      "cell_type": "markdown",
      "metadata": {
        "id": "QJmVZW0TxyqA"
      },
      "source": [
        "## Коллаборативная фильтрация по сходству объектов (Item-based collaborative filtering)"
      ]
    },
    {
      "cell_type": "markdown",
      "metadata": {
        "id": "dZAPvgpTxyqB"
      },
      "source": [
        "Мы реализовали механизм выдачи рекомендаций таким образом, что для создания набора данных необходимы оценки, выставленные каждым\n",
        "пользователем. Для нескольких тысяч людей это, возможно, и будет работать, но, когда речь идет о миллионах пользователей и товаров, сравнение каждого пользователя со всеми другими, а затем сравнение товаров, займет недопустимо много времени. "
      ]
    },
    {
      "cell_type": "markdown",
      "metadata": {
        "id": "f0nZBimVxyqC"
      },
      "source": [
        "<a href=\"https://drive.google.com/uc?id=1jAZLpihYxu_FPvN9PIJ1G4S_KvO_6Ku6\n",
        "\" target=\"_blank\"><img src=\"https://drive.google.com/uc?id=1Vd3ofIheUgmxDKLq72cVPTPyl5IyAxo0\" \n",
        "alt=\"IMAGE ALT TEXT HERE\" width=\"500\" border=\"0\" /></a>\n"
      ]
    },
    {
      "cell_type": "markdown",
      "metadata": {
        "id": "zis-eUSbxyqC"
      },
      "source": [
        "Техника, которую мы применяли до сих пор, называется **коллаборативной фильтрацией по схожести пользователей**. Альтернатива известна под названием **коллаборативная фильтрация по схожести образцов**. "
      ]
    },
    {
      "cell_type": "markdown",
      "metadata": {
        "id": "r2xvZzNpxyqD"
      },
      "source": [
        "Основная идея процедуры фильтрации по схожести образцов заключается в том, чтобы для каждого образца заранее вычислить большинство похожих на него. Тогда для выдачи рекомендаций алгоритму достаточно будет найти те образцы, которым пользователь выставил наивысшие оценки, а затем сформировать список образцов, максимально похожих на эти. \n",
        "\n",
        "Отметим одно существенное отличие: хотя на первом шаге необходимо исследовать все данные, результаты сравнения образцов изменяются не так часто, как результаты сравнения пользователей."
      ]
    },
    {
      "cell_type": "markdown",
      "metadata": {
        "id": "8jpIms0rxyqD"
      },
      "source": [
        "<a href=\"https://drive.google.com/uc?id=1jAZLpihYxu_FPvN9PIJ1G4S_KvO_6Ku6\n",
        "\" target=\"_blank\"><img src=\"https://drive.google.com/uc?id=1VAoSpaUcbabIFRWlXqrBFDs7LhIISkA5\" \n",
        "alt=\"IMAGE ALT TEXT HERE\" width=\"700\" border=\"0\" /></a>"
      ]
    },
    {
      "cell_type": "markdown",
      "metadata": {
        "collapsed": true,
        "id": "_8Z0LEmBxyqE"
      },
      "source": [
        "Чтобы сравнивать образцы, нужно первым делом построить полный набор данных о похожих образцах. В первую очередь, нам нужно переделать словарь предпочтений критиков таким образом, чтобы теперь был словарь фильмов и их оценок: \n",
        "```python\n",
        "film_dict = {\n",
        "    'film_name_1': \n",
        "    {'critic_1': 'score_1', \n",
        "     'critic_2': 'score_2', \n",
        "     ...\n",
        "    }, \n",
        "    ...\n",
        "}\n",
        "```\n",
        "Далее для каждого фильма посчитать наиболее похожие образцы и коэффициенты похожести для них. Для подсчета схожести будем использовать евклидово расстояние. \n",
        "\n"
      ]
    },
    {
      "cell_type": "code",
      "metadata": {
        "id": "oeJ1Iagp_-x2"
      },
      "source": [
        "# обращаем матрицу предпочтений, чтобы строки соответствовали образцам\n",
        "def transformPrefs(critics_dict):\n",
        "\n",
        "    # инициилизируем новый словарь с фильмами и их оценками\n",
        "    result = {}\n",
        "\n",
        "    # для каждого критика в словаре\n",
        "    for person in critics_dict:\n",
        "\n",
        "        # для каждого оцененного им фильма\n",
        "        for item in critics_dict[person]:\n",
        "\n",
        "            # добавляем такой объект в словарь\n",
        "            result.setdefault(item, {})\n",
        "            # меняеи местами человека и предмет\n",
        "            result[item][person] = critics_dict[person][item]\n",
        "    return result"
      ],
      "execution_count": 30,
      "outputs": []
    },
    {
      "cell_type": "code",
      "metadata": {
        "id": "7GoQj-_EAbxZ"
      },
      "source": [
        "pp.pprint (transformPrefs (critics))"
      ],
      "execution_count": 31,
      "outputs": [
        {
          "output_type": "stream",
          "name": "stdout",
          "text": [
            "{   'Just My Luck': {   'Claudia Puig': 3.0,\n                        'Gene Seymour': 1.5,\n                        'Lisa Rose': 3.0,\n                        'Mick LaSalle': 2.0},\n    'Lady in the Water': {   'Gene Seymour': 3.0,\n                             'Jack Matthews': 3.0,\n                             'Lisa Rose': 2.5,\n                             'Michael Phillips': 2.5,\n                             'Mick LaSalle': 3.0},\n    'Snakes on a Plane': {   'Claudia Puig': 3.5,\n                             'Gene Seymour': 3.5,\n                             'Jack Matthews': 4.0,\n                             'Lisa Rose': 3.5,\n                             'Michael Phillips': 3.0,\n                             'Mick LaSalle': 4.0,\n                             'Toby': 4.5},\n    'Superman Returns': {   'Claudia Puig': 4.0,\n                            'Gene Seymour': 5.0,\n                            'Jack Matthews': 5.0,\n                            'Lisa Rose': 3.5,\n                            'Michael Phillips': 3.5,\n                            'Mick LaSalle': 3.0,\n                            'Toby': 4.0},\n    'The Night Listener': {   'Claudia Puig': 4.5,\n                              'Gene Seymour': 3.0,\n                              'Jack Matthews': 3.0,\n                              'Lisa Rose': 3.0,\n                              'Michael Phillips': 4.0,\n                              'Mick LaSalle': 3.0},\n    'You, Me and Dupree': {   'Claudia Puig': 2.5,\n                              'Gene Seymour': 3.5,\n                              'Jack Matthews': 3.5,\n                              'Lisa Rose': 2.5,\n                              'Mick LaSalle': 2.0,\n                              'Toby': 1.0}}\n"
          ]
        }
      ]
    },
    {
      "cell_type": "markdown",
      "metadata": {
        "id": "rR1-4woyAQDX"
      },
      "source": [
        "**Задание 1.1** Реализуйте функцию **calculateSimilarItems()**, которая делает сразу оба шага. На вход её нужно подать словарь с оценками критиков *critics* и число образцов, которые мы считаем наиболее похожими (остальные не выводим). Например, так `calculateSimilarItems(critics, n=10)`\n",
        "\n",
        "**Code 16:**"
      ]
    },
    {
      "source": [
        "Сначала я написал пример функции calculateSimilarItems используя только расстояние Евклида"
      ],
      "cell_type": "markdown",
      "metadata": {}
    },
    {
      "cell_type": "code",
      "metadata": {
        "id": "XZgrlsnLApwg"
      },
      "source": [
        "# Создать словарь, содержащий для каждого образца те образцы, которые больше всего похожи на него.\n",
        "def calculateSimilarItems_euclid(prefs, n=10):\n",
        "    rating = transformPrefs(prefs)\n",
        "\n",
        "    critics_dict = {}\n",
        "    i = 0\n",
        "    for person in prefs:\n",
        "        critics_dict[person] = i\n",
        "        i += 1\n",
        "    \n",
        "    vectors = {}\n",
        "\n",
        "    for film in rating:\n",
        "        vector = [0] * len(critics_dict)\n",
        "\n",
        "        for critic in rating[film]:\n",
        "            vector[critics_dict[critic]] = rating[film][critic]\n",
        "\n",
        "        vectors[film] = vector\n",
        "\n",
        "    result = {}\n",
        "\n",
        "    for film in vectors:\n",
        "        result[film] = []\n",
        "        similarity_arr = []\n",
        "\n",
        "        for compare_film in vectors:\n",
        "            if compare_film != film:\n",
        "                similarity_arr.append([round(1 / (1 + compute_euclid(vectors[film], vectors[compare_film])), 2), compare_film])\n",
        "\n",
        "        similarity_arr = sorted(similarity_arr, key = lambda arr: arr[0], reverse = True)\n",
        "\n",
        "        result[film] = similarity_arr[0 : n]\n",
        "\n",
        "    return result\n"
      ],
      "execution_count": 43,
      "outputs": []
    },
    {
      "cell_type": "code",
      "metadata": {
        "id": "mcnJJQ9cxyqG"
      },
      "source": [
        "itemsim = calculateSimilarItems_euclid(critics, n=3)\n",
        "pp.pprint(itemsim)"
      ],
      "execution_count": 44,
      "outputs": [
        {
          "output_type": "stream",
          "name": "stdout",
          "text": [
            "{   'Just My Luck': [   [0.19, 'You, Me and Dupree'],\n                        [0.16, 'Lady in the Water'],\n                        [0.15, 'The Night Listener']],\n    'Lady in the Water': [   [0.21, 'You, Me and Dupree'],\n                             [0.17, 'The Night Listener'],\n                             [0.16, 'Just My Luck']],\n    'Snakes on a Plane': [   [0.31, 'Superman Returns'],\n                             [0.17, 'The Night Listener'],\n                             [0.16, 'You, Me and Dupree']],\n    'Superman Returns': [   [0.31, 'Snakes on a Plane'],\n                            [0.17, 'The Night Listener'],\n                            [0.15, 'You, Me and Dupree']],\n    'The Night Listener': [   [0.17, 'Lady in the Water'],\n                              [0.17, 'Snakes on a Plane'],\n                              [0.17, 'Superman Returns']],\n    'You, Me and Dupree': [   [0.21, 'Lady in the Water'],\n                              [0.19, 'Just My Luck'],\n                              [0.17, 'The Night Listener']]}\n"
          ]
        }
      ]
    },
    {
      "source": [
        "Ниже пример с использованием уже написанных выше методов"
      ],
      "cell_type": "markdown",
      "metadata": {}
    },
    {
      "cell_type": "code",
      "execution_count": 56,
      "metadata": {},
      "outputs": [],
      "source": [
        "# Создать словарь, содержащий для каждого образца те образцы, которые больше всего похожи на него.\n",
        "def calculateSimilarItems(prefs, n=10):\n",
        "    films_raiting = transformPrefs(prefs)\n",
        "    similar_films = {}\n",
        "\n",
        "    for film in films_raiting:\n",
        "        similar_films[film] = topMatches(films_raiting, film, n, similarity=sim_distance)\n",
        "\n",
        "    return similar_films \n"
      ]
    },
    {
      "cell_type": "code",
      "execution_count": 57,
      "metadata": {},
      "outputs": [
        {
          "output_type": "stream",
          "name": "stdout",
          "text": [
            "{   'Just My Luck': [   (0.2222222222222222, 'Lady in the Water'),\n                        (0.18181818181818182, 'You, Me and Dupree'),\n                        (0.15384615384615385, 'The Night Listener')],\n    'Lady in the Water': [   (0.4, 'You, Me and Dupree'),\n                             (0.2857142857142857, 'The Night Listener'),\n                             (0.2222222222222222, 'Snakes on a Plane')],\n    'Snakes on a Plane': [   (0.2222222222222222, 'Lady in the Water'),\n                             (0.18181818181818182, 'The Night Listener'),\n                             (0.16666666666666666, 'Superman Returns')],\n    'Superman Returns': [   (0.16666666666666666, 'Snakes on a Plane'),\n                            (0.10256410256410256, 'The Night Listener'),\n                            (0.09090909090909091, 'Lady in the Water')],\n    'The Night Listener': [   (0.2857142857142857, 'Lady in the Water'),\n                              (0.18181818181818182, 'Snakes on a Plane'),\n                              (0.15384615384615385, 'Just My Luck')],\n    'You, Me and Dupree': [   (0.4, 'Lady in the Water'),\n                              (0.18181818181818182, 'Just My Luck'),\n                              (0.14814814814814814, 'The Night Listener')]}\n"
          ]
        }
      ],
      "source": [
        "itemsim = calculateSimilarItems(critics, n=3)\n",
        "pp.pprint(itemsim)"
      ]
    },
    {
      "cell_type": "markdown",
      "metadata": {
        "id": "XajxbUimxyqM"
      },
      "source": [
        "Получили вложенный словарь с фильмами и их похожестью на другие фильмы. "
      ]
    },
    {
      "cell_type": "markdown",
      "metadata": {
        "id": "fcsEaB_fxyqN"
      },
      "source": [
        "Теперь мы готовы выдавать рекомендации, пользуясь словарем данных о схожести образцов. По аналогии с тем, что мы уже делали, необходимо получить список всех образцов, которым пользователь выставлял оценки, найти похожие и взвесить их с учетом коэффициентов подобия (умножить оценку на коэффициент подобия). \n",
        "\n",
        "В таблице ниже приведён приведен рассчёт прогноза оценок для критика Toby. В столбце Фильм и Оценка приведены его оценки за фильмы.  В остальных столбцах приведены коэффициенты похожести для трёх фильмов, которые Toby не оценивал."
      ]
    },
    {
      "cell_type": "markdown",
      "metadata": {
        "id": "EpUyM57bxyqO"
      },
      "source": [
        "<a href=\"https://drive.google.com/uc?id=1jAZLpihYxu_FPvN9PIJ1G4S_KvO_6Ku6\n",
        "\" target=\"_blank\"><img src=\"https://drive.google.com/uc?id=1QIJpqC6zQkiQ-1-AzNSmvK4bc8fohsH1\" \n",
        "alt=\"IMAGE ALT TEXT HERE\" width=\"500\" border=\"0\" /></a>"
      ]
    },
    {
      "cell_type": "markdown",
      "metadata": {
        "id": "wmkuMQvaxyqP"
      },
      "source": [
        "Реализуйте этот механихм в функции **getRecommendedItems()**. На вход этой функци подается:\n",
        "* словарь с оценками пользователя (в нашем случае это словарь критиков, *critics*)\n",
        "* словарь с данными о схожести образцов, *itemsim*\n",
        "* имя критика, для которого строим рекомендации"
      ]
    },
    {
      "cell_type": "markdown",
      "metadata": {
        "id": "JaUsLOhqxyqP"
      },
      "source": [
        "Код, для того, чтобы получить рекомендации для пользователя Toby `getRecommendedItems(critics, itemsim, 'Toby')`\n",
        "\n",
        "**Code 17:**"
      ]
    },
    {
      "cell_type": "code",
      "metadata": {
        "id": "fjqscXrECsEK"
      },
      "source": [
        "def getRecommendedItems(prefs, itemMatch, user):\n",
        "\n",
        "    # инициализируем словари\n",
        "    userRatings = prefs[user]\n",
        "    scores = {}\n",
        "    totalSim = {}\n",
        "\n",
        "    # цикл по образцам, оцененным данным пользователем (хранятся в userRatings)\n",
        "    for (item, rating) in userRatings.items():\n",
        "\n",
        "        # цикл по образцам, похожим на данный (хранятся в словаре itemMatch)\n",
        "        for (similarity, item2) in itemMatch[item]:\n",
        "            # пропускаем объект, если пользователь уже оценивал данный образец\n",
        "            if item2 in userRatings:\n",
        "                continue\n",
        "            # взвешенная суммы оценок, умноженных на коэффициент подобия\n",
        "            scores.setdefault(item2, 0)\n",
        "            scores[item2] = scores[item2] + similarity * rating\n",
        "            # сумма всех коэффициентов подобия\n",
        "            totalSim.setdefault(item2, 0)\n",
        "            totalSim[item2] = totalSim[item2] + similarity\n",
        "            if totalSim[item2] == 0:\n",
        "                totalSim[item2] = 0.0000001  # чтобы избежать деления на ноль\n",
        "    # делим каждую итоговую оценку на взвешенную сумму, чтобы вычислить среднее\n",
        "    rankings = [(score / totalSim[item], item) for item, score in scores.items()]\n",
        "\n",
        "    # возвращает список rankings, отсортированный по убыванию\n",
        "    rankings.sort(reverse=True)\n",
        "    return rankings"
      ],
      "execution_count": 58,
      "outputs": []
    },
    {
      "cell_type": "code",
      "metadata": {
        "id": "bC-V0ovMxyqQ"
      },
      "source": [
        "getRecommendedItems(critics, itemsim, 'Toby')"
      ],
      "execution_count": 59,
      "outputs": [
        {
          "output_type": "execute_result",
          "data": {
            "text/plain": [
              "[(3.182634730538922, 'The Night Listener'),\n",
              " (2.4730878186968837, 'Lady in the Water'),\n",
              " (1.0, 'Just My Luck')]"
            ]
          },
          "metadata": {},
          "execution_count": 59
        }
      ]
    },
    {
      "cell_type": "markdown",
      "metadata": {
        "id": "hSz7SSvUC6oT"
      },
      "source": [
        "Рекомендация получилась так себе. Ведь это просто ранжированный список фильмов, которые он не смотрел. Давайте в рекомендацию будем вклчать только те фильмы, за которые прогнозируемый средний балл превышает средний балл за те фильмы, которые уже оценил критик. Это второе упражнение на дом. (Первое было про неперсонализированную рекомендацию)."
      ]
    },
    {
      "cell_type": "code",
      "execution_count": 60,
      "metadata": {},
      "outputs": [],
      "source": [
        "def get_average_score(prefs, user):\n",
        "    average = 0\n",
        "    for i in prefs[user]:\n",
        "        average += prefs[user][i]\n",
        "\n",
        "    return average/len(prefs[user]) \n",
        "\n",
        "def get_recommended_items_avg(prefs, item_match, user):\n",
        "    recommendations = []\n",
        "  \n",
        "    for i in getRecommendedItems(prefs, item_match, user):\n",
        "        if i[0] > get_average_score(prefs, user):\n",
        "            recommendations.append(i[1])\n",
        "\n",
        "    return recommendations\n"
      ]
    },
    {
      "cell_type": "code",
      "execution_count": 61,
      "metadata": {},
      "outputs": [
        {
          "output_type": "stream",
          "name": "stdout",
          "text": [
            "['The Night Listener']\n"
          ]
        }
      ],
      "source": [
        "print(get_recommended_items_avg(critics, itemsim, 'Toby'))"
      ]
    },
    {
      "cell_type": "markdown",
      "metadata": {
        "id": "jIBvDl1HDmiK"
      },
      "source": [
        "## Вопрос на обсуждение\n",
        "\n",
        "Какие проблемы есть у описанного подхода?"
      ]
    }
  ]
}